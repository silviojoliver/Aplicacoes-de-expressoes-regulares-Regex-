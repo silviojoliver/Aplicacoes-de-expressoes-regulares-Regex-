{
 "cells": [
  {
   "cell_type": "markdown",
   "metadata": {
    "id": "xpmZHxI0D2PX"
   },
   "source": [
    "\n",
    "## <font color='Grey'> 3 Aplicações de expressões regulares (Regex) que todo Cientista de Dados deve conhecer </font>\n"
   ]
  },
  {
   "cell_type": "markdown",
   "metadata": {
    "id": "P16Q6aLeQvwr"
   },
   "source": [
    "![alt text](https://media3.giphy.com/media/MarRSACy8q3MPtXKQq/giphy.gif)\n",
    "\n",
    "### <font color='Blue'>PLN - Processamento de Linguagem Natural</font>\n",
    "\n",
    "![alt text](https://www.grupooffice.com.br/gallery_gen/3ded6ec43993acc0814acea029d3c50d_anim.gif)"
   ]
  },
  {
   "cell_type": "markdown",
   "metadata": {
    "id": "MrWUVJnavRLu"
   },
   "source": [
    "## 1° Extração de E-mail de Documentos\n",
    "\n",
    "*  Comunicaçao Direta com Cliente Potencial\n"
   ]
  },
  {
   "cell_type": "markdown",
   "metadata": {
    "id": "9ObENawlTTN3"
   },
   "source": [
    "![alt text](https://www.consignet.com.br/wp-content/uploads/2018/10/o-que-e-comunicacao-assertiva-alcance-objetivos-sem-prejudicar-relacoes.jpg)"
   ]
  },
  {
   "cell_type": "markdown",
   "metadata": {
    "id": "HrDivV72T23S"
   },
   "source": [
    "*  Segmentação de Público para Campanhas de Marketing\n",
    "\n",
    "![alt text](https://www.agenciaunico.com.br/fotos/images/SegmentacionClientes-01-Portugues2.jpg)\n",
    "\n",
    "![alt text](https://garratech.com.br/wp-content/uploads/21398f7323df02b64fae25c704ccc32f.gif)\n",
    "\n",
    "*  Pequisa de Mercado\n",
    "\n",
    "![alt text](https://1.bp.blogspot.com/-v7YS4nlPEkI/Wil7KArqJ8I/AAAAAAAACBA/28bWNFXwEhcl6CLmQsXJlRlMF2GX9xlhwCLcBGAs/s1600/social.gif)\n",
    "\n",
    "\n",
    "![alt text](https://mpeweek.bb.com.br/wp-content/uploads/2019/09/ACCA1507-FA90-47E9-848A-1BEDA78A80D5.png)"
   ]
  },
  {
   "cell_type": "markdown",
   "metadata": {
    "id": "JnZpANMCV9IS"
   },
   "source": [
    "### Extração de E-mail de um texto"
   ]
  },
  {
   "cell_type": "code",
   "execution_count": 1,
   "metadata": {
    "id": "KDXhMitXkLTZ"
   },
   "outputs": [
    {
     "data": {
      "text/plain": [
       "['edau@gmail.com', 'visaofin@gmail.com', 'suporte@cienciadosdados.com']"
      ]
     },
     "execution_count": 1,
     "metadata": {},
     "output_type": "execute_result"
    }
   ],
   "source": [
    "#Biblioteca Regular Expressions\n",
    "import re\n",
    "\n",
    "# Texto para buscar o E-mail\n",
    "text = \"Observa-se que o correio eletrônico, \\\n",
    "edau@gmail.com, deixa de ser apenas um meio de troca de \\\n",
    "mensagens entre pessoas para se tornar um grande fator na \\\n",
    "produtividade das empresas. Grandes empresas como visaofin@gmail.com , estão, cada vez \\\n",
    "mais, usando o correio eletrônico para desempenhar papéis decisivos\\\n",
    " em suas negociações. Dentro disso, o e-mail suporte@cienciadosdados.com, uma intranet pode ser estabelecida \\\n",
    " para tornar a comunicação de funcionários com outros grupos, tornando \\\n",
    " assim mais fácil o trabalho e eliminando mensagens em massa e outras mensagens indesejadas.\"\n",
    "\n",
    "#funçaõ + instrução\n",
    "re.findall(r\"[\\w.-]+@[\\w.-]+\", text)\n"
   ]
  },
  {
   "cell_type": "code",
   "execution_count": 2,
   "metadata": {
    "id": "8O34aJ6RlS29"
   },
   "outputs": [
    {
     "data": {
      "text/plain": [
       "['edau@gmail.com', 'visaofin@gmail.com', 'suporte@cienciadosdados.com']"
      ]
     },
     "execution_count": 2,
     "metadata": {},
     "output_type": "execute_result"
    }
   ],
   "source": [
    "#Biblioteca Regular Expressions\n",
    "import re\n",
    "\n",
    "# Caminho do seu arquivo para buscar email\n",
    "# abrir e ler o documento,salva em fp\n",
    "# criar objeto texto e ler\n",
    "\n",
    "with open(\"livro.txt\", \"r\") as fp:\n",
    "  text = fp.read()\n",
    "  \n",
    "re.findall(r\"[\\w.-]+@[\\w.-]+\", text)\n",
    "\n"
   ]
  },
  {
   "cell_type": "markdown",
   "metadata": {
    "id": "wcywmXiWv-Mz"
   },
   "source": [
    "## 2° Busca de Informações Relevantes da Web\n",
    "\n",
    "* Análise de Concorrentes\n",
    "\n",
    "![alt text](https://ushealthcare4u.com/wp-content/uploads/2020/06/Impact-of-COVID-19-on-Erectile-Dysfunction-Treatment-Market-Size-Share.gif)\n",
    "\n",
    "* Pesquisa de Tópicos\n",
    "\n",
    "![alt text](https://endomarketing.tv/wp-content/uploads/2016/06/endomarketing-progic-comunicacao-interna-eficaz-712x350.gif)\n",
    "\n",
    "* Fundamentos para Tomada de Decisão Estratégica \n",
    "\n",
    "\n",
    "![alt text](https://endomarketing.tv/wp-content/uploads/2017/09/endomarketing-progic-comunicacao-interna-estrategica-conheca-a-importancia-da-ci-para-as-empresas.gif)"
   ]
  },
  {
   "cell_type": "code",
   "execution_count": 5,
   "metadata": {
    "id": "othDKUlRmWFg"
   },
   "outputs": [],
   "source": [
    "#Botão direito - Exibir código fonte da Página\n",
    "html = \"\"\" \n",
    "\n",
    "\n",
    "<!doctype html>\n",
    "<html lang=\"pt-br\" dir=\"ltr\">\n",
    "    <head>\n",
    "<script>window.  = window.  || [];</script>\n",
    "<!-- Google Tag Manager JS V.1.0.0 from Tools for Joomla -->\n",
    "<script>(function(w,d,s,l,i){w[l]=w[l]||[];w[l].push({'gtm.start':\n",
    "new Date().getTime(),event:'gtm.js'});var f=d.getElementsByTagName(s)[0],\n",
    "j=d.createElement(s),dl=l!='dataLayer'?'&l='+l:'';j.async=true;j.src=\n",
    "'//www.googletagmanager.com/gtm.js?id='+i+dl;f.parentNode.insertBefore(j,f);\n",
    "})(window,document,'script',' ',' AW-639008518');</script>\n",
    "<!-- End Google Tag Manager JS -->\n",
    "        <meta charset=\"utf-8\">\n",
    "        <meta name=\"viewport\" content=\"width=device-width, initial-scale=1, shrink-to-fit=no\">\n",
    "        <link rel=\"canonical\" href=\"https://cienciadosdados.com/\">\n",
    "        <base href=\"https://cienciadosdados.com/\" />\n",
    "\t<meta http-equiv=\"content-type\" content=\"text/html; charset=utf-8\" />\n",
    "\t<meta name=\"keywords\" content=\"Ciência de dados | Data Science | Machine Learning | Big Data\" />\n",
    "\t<meta name=\"title\" content=\"Ciência dos Dados\" />\n",
    "\t<meta name=\"description\" content=\"Portal da Ciência de Dados no Brasil.\" />\n",
    "\t<meta name=\"generator\" content=\"Joomla! - Open Source Content Management\" />\n",
    "\t<title>Ciência dos Dados</title>\n",
    "\t<link href=\"/images/favicon/favicon.png\" rel=\"shortcut icon\" type=\"image/vnd.microsoft.icon\" />\n",
    "\t<link href=\"/components/com_sppagebuilder/assets/css/font-awesome.min.css\" rel=\"stylesheet\" type=\"text/css\" />\n",
    "\t<link href=\"/components/com_sppagebuilder/assets/css/animate.min.css\" rel=\"stylesheet\" type=\"text/css\" />\n",
    "\t<link href=\"/components/com_sppagebuilder/assets/css/sppagebuilder.css\" rel=\"stylesheet\" type=\"text/css\" />\n",
    "\t<link href=\"/components/com_sppagebuilder/assets/css/sppagecontainer.css\" rel=\"stylesheet\" type=\"text/css\" />\n",
    "\t<link href=\"//fonts.googleapis.com/css?family=Raleway:100,100italic,200,200italic,300,300italic,400,400italic,500,500italic,600,600italic,700,700italic,800,800italic,900,900italic\" rel=\"stylesheet\" type=\"text/css\" />\n",
    "\t<link href=\"/components/com_sppagebuilder/assets/css/magnific-popup.css\" rel=\"stylesheet\" type=\"text/css\" />\n",
    "\t<link href=\"/plugins/system/jce/css/content.css?118f2406c6962051e589f91a2ba6a8d1\" rel=\"stylesheet\" type=\"text/css\" />\n",
    "\t<link href=\"/templates/shaper_helixultimate/css/bootstrap.min.css\" rel=\"stylesheet\" type=\"text/css\" />\n",
    "\t<link href=\"/templates/shaper_helixultimate/css/font-awesome.min.css\" rel=\"stylesheet\" type=\"text/css\" />\n",
    "\t<link href=\"/templates/shaper_helixultimate/css/fa-v4-shims.css\" rel=\"stylesheet\" type=\"text/css\" />\n",
    "\t<link href=\"/templates/shaper_helixultimate/css/template.css\" rel=\"stylesheet\" type=\"text/css\" />\n",
    "\t<link href=\"/templates/shaper_helixultimate/css/presets/default.css\" rel=\"stylesheet\" type=\"text/css\" />\n",
    "\t<style type=\"text/css\">\n",
    ".sp-page-builder .page-content #section-id-1511613808{padding-top:60px;padding-right:0px;padding-bottom:200px;padding-left:0px;background-image:url(/images/Criativos/blur-close-up-code-computer-546819.jpg);background-repeat:no-repeat;background-size:cover;background-attachment:fixed;background-position:50% 50%;}.sp-page-builder .page-content #section-id-1511613808 > .sppb-row-overlay {background-color:rgba(0, 0, 0, 0.50)}#sppb-addon-1512068798151 {color:#ffffff;margin-top:0px;margin-right:0px;margin-bottom:30px;margin-left:0px;}#sppb-addon-1512068798151 .sppb-addon-title {margin-top:0px;margin-bottom:20px;font-size:50px;line-height:50px;line-height:96px;}@media (max-width:767px) {#sppb-addon-1512068798151 .sppb-addon-title {font-size:38px;line-height:38px;}}#sppb-addon-1512068798151 .sppb-addon-content { font-family:Raleway; }#sppb-addon-1512068798151{ font-size:18px;line-height:28px; }#sppb-addon-1512068912421 {box-shadow:0px 0px 0px 0px #fff;width:99%;}#sppb-addon-1512068912421 a {color:#f4eeee;}#sppb-addon-1512068912421 .sppb-btn { font-family:Raleway; }#sppb-addon-1512068912421 #btn-1512068912421.sppb-btn-success{letter-spacing:1px;}#sppb-addon-1512068912421 .sppb-btn i {margin:0px 0px 0px 0px;}.sp-page-builder .page-content #section-id-1588174409786{padding-top:50px;padding-right:0px;padding-bottom:50px;padding-left:0px;margin-top:4px;margin-right:4px;margin-bottom:4px;margin-left:4px;}#column-id-1588174409784{box-shadow:0 0 0 0 #fff;}#sppb-addon-1588175470980 {box-shadow:0px 0px 0px 0px #fff;border-radius:245px;}#column-id-1588174409785{box-shadow:0 0 0 0 #fff;}#sppb-addon-1588175485257 {box-shadow:0px 0px 0px 23px #fff;margin-top:10;margin-right:10;margin-bottom:10;margin-left:10;}.sp-page-builder .page-content #section-id-1588174410118{padding:50px 0px 50px 0px;margin:0px 0px 0px 0px;}#column-id-1588174410117{box-shadow:0 0 0 0 #fff;}#sppb-addon-1588176173958 img{border-radius:34px;}.sp-page-builder .page-content #section-id-1519278520252{padding-top:70px;padding-right:0px;padding-bottom:40px;padding-left:0px;}#sppb-addon-1519278734651 {margin-top:0px;margin-right:0px;margin-bottom:30px;margin-left:0px;}#sppb-addon-1519278800191 {margin-top:0px;margin-right:0px;margin-bottom:30px;margin-left:0px;}.sp-page-builder .page-content #section-id-1519278764266{padding-top:70px;padding-right:0px;padding-bottom:20px;padding-left:0px;background-color:#F9F9F9;}#sppb-addon-1519279062623 {margin-top:0px;margin-right:0px;margin-bottom:50px;margin-left:0px;}.sp-page-builder .page-content #section-id-1519279374154{padding-top:70px;padding-right:0px;padding-bottom:40px;padding-left:0px;color:#fff;background-color:#13192d;}#sppb-addon-1519279731874 {margin-top:0px;margin-right:0px;margin-bottom:30px;margin-left:0px;}#sppb-addon-1519279815885 {box-shadow:0px 0px 0px 0px #fff;border-radius:3px;margin-top:0px;margin-right:0px;margin-bottom:30px;margin-left:0px;}#sppb-addon-1519279815885 img{border-radius:3px;}.sp-page-builder .page-content #section-id-1519279374340{padding-top:70px;padding-right:0px;padding-bottom:70px;padding-left:0px;}#sppb-addon-1580404213193 .sppb-addon-content { font-family:Verdana; }#sppb-addon-1578929091431 .sppb-addon-title {margin-top:0px;margin-bottom:15px;font-size:18px;line-height:18px;}#sppb-addon-1590578842046 .sppb-addon-title {margin-top:63px;margin-bottom:0px;font-size:18px;line-height:18px;}#sppb-addon-1589993591038 .sppb-addon-title {margin-top:113px;margin-bottom:0px;font-size:18px;line-height:18px;}#sppb-addon-1580404213202 .sppb-addon-title {margin-top:87px;}#sppb-addon-1583094116059 .sppb-addon-title {margin-top:78px;}#sppb-addon-1586270785438 .sppb-addon-title {margin-top:78px;}#sppb-addon-1587493969343 .sppb-addon-title {margin-top:17px;line-height:42px;}#column-id-1579464459523{box-shadow:0 0 0 0 #fff;}#sppb-addon-1579464757485 .sppb-addon-title {margin-top:2px;margin-bottom:0px;font-size:15px;line-height:15px;line-height:24px;}#sppb-addon-1591182975217 .sppb-addon-title {margin-top:69px;margin-bottom:0px;font-size:18px;line-height:18px;line-height:24px;}#sppb-addon-1581793429109 {border-radius:212px;}#sppb-addon-1581793429109 .sppb-addon-title {margin-top:85px;margin-bottom:0px;font-size:15px;line-height:15px;line-height:21px;}#sppb-addon-1583777655730 {border-radius:212px;}#sppb-addon-1583777655730 .sppb-addon-title {margin-top:90px;font-size:15px;line-height:15px;line-height:21px;}#sppb-addon-1586270785533 {border-radius:212px;}#sppb-addon-1586270785533 .sppb-addon-title {margin-top:66px;margin-bottom:25px;font-size:15px;line-height:15px;line-height:21px;}#sppb-addon-1588071829583 {border-radius:212px;}#sppb-addon-1588071829583 .sppb-addon-title {margin-top:53px;margin-bottom:15px;font-size:15px;line-height:15px;line-height:21px;}#column-id-1579464459524{box-shadow:0 0 0 0 #fff;}#sppb-addon-1580157415960 .sppb-addon-title {font-size:14px;line-height:14px;line-height:25px;}#sppb-addon-1582463642202 .sppb-addon-title {margin-top:74px;font-size:14px;line-height:14px;line-height:15px;}#sppb-addon-1584305266719 .sppb-addon-title {margin-top:101px;font-size:15px;line-height:15px;line-height:15px;}#sppb-addon-1586871052889 .sppb-addon-title {margin-top:101px;margin-bottom:0px;font-size:15px;line-height:15px;line-height:15px;}#sppb-addon-1588851207512 .sppb-addon-title {margin-top:78px;margin-bottom:9px;font-size:15px;line-height:15px;line-height:15px;}#column-id-1579464459525{box-shadow:0 0 0 0 #fff;}\n",
    ".iseo-dashed{\n",
    "\t\t\t\t\t\tborder-bottom:1px dashed;\n",
    "\t\t\t\t\t\ttext-decoration:none !important;\n",
    "\t\t\t\t  }\n",
    "h1{font-family: 'Arial', sans-serif;}\n",
    "\n",
    ".logo-image {height:80px;}.logo-image-phone {height:80px;}\n",
    ".logo-image {height:80px;}.logo-image-phone {height:80px;}\n",
    "\t</style>\n",
    "\t<script type=\"application/json\" class=\"joomla-script-options new\">{\"csrf.token\":\"b4c5e4d582e64c04f62d388b02344ee9\",\"system.paths\":{\"root\":\"\",\"base\":\"\"},\"joomla.jtext\":{\"COM_SPPAGEBUILDER_FRONTEND_EDITOR\":\"Frontend Editor\",\"COM_SPPAGEBUILDER_PREVIEW\":\"Preview\",\"COM_SPPAGEBUILDER_APPLY\":\"Apply\",\"COM_SPPAGEBUILDER_CANCEL\":\"Cancel\",\"COM_SPPAGEBUILDER_MEDIA_MANAGER\":\"Media Manager\",\"COM_SPPAGEBUILDER_MEDIA_MANAGER_UPLOAD_FILES\":\"Upload Files\",\"COM_SPPAGEBUILDER_MEDIA_MANAGER_CLOSE\":\"Close Modal\",\"COM_SPPAGEBUILDER_MEDIA_MANAGER_INSERT\":\"Insert\",\"COM_SPPAGEBUILDER_MEDIA_MANAGER_SEARCH\":\"Search\",\"COM_SPPAGEBUILDER_MEDIA_MANAGER_CANCEL\":\"Cancel\",\"COM_SPPAGEBUILDER_MEDIA_MANAGER_DELETE\":\"Delete\",\"COM_SPPAGEBUILDER_MEDIA_MANAGER_CONFIRM_DELETE\":\"You are about to permanently delete this item. 'Cancel' to stop, 'OK' to delete.\",\"COM_SPPAGEBUILDER_MEDIA_MANAGER_LOAD_MORE\":\"Load More\",\"COM_SPPAGEBUILDER_MEDIA_MANAGER_UNSUPPORTED_FORMAT\":\"File format not supported.\",\"COM_SPPAGEBUILDER_MEDIA_MANAGER_BROWSE_MEDIA\":\"Browse Media\",\"COM_SPPAGEBUILDER_MEDIA_MANAGER_BROWSE_FOLDERS\":\"Browse Folders\",\"COM_SPPAGEBUILDER_MEDIA_MANAGER_CREATE_FOLDER\":\"New Folder\",\"COM_SPPAGEBUILDER_ADDON_ICON_SELECT\":\"Select Icon\",\"COM_SPPAGEBUILDER_MEDIA_MANAGER_ENTER_DIRECTORY_NAME\":\"Please enter the name of the directory which should be created.\",\"COM_SPPAGEBUILDER_MEDIA_MANAGER_MEDIA_UPLOADING\":\"Uploading\",\"COM_SPPAGEBUILDER_MEDIA_MANAGER_UPLOAD_FAILED\":\"Upload Failed\",\"COM_SPPAGEBUILDER_MEDIA_MANAGER_MEDIA_LARGE\":\"This file is too large to upload.\",\"COM_SPPAGEBUILDER_MEDIA_MANAGER_FILE_NOT_SUPPORTED\":\"File not supported\",\"COM_SPPAGEBUILDER_ROW_OPTIONS\":\"Row Options\",\"COM_SPPAGEBUILDER_ADD_NEW_ROW\":\"Add New Row\",\"COM_SPPAGEBUILDER_DUPLICATE_ROW\":\"Duplicate row\",\"COM_SPPAGEBUILDER_DISABLE_ROW\":\"Disable Row\",\"COM_SPPAGEBUILDER_ENABLE_ROW\":\"Enable Row\",\"COM_SPPAGEBUILDER_COPY_ROW\":\"Copy Row\",\"COM_SPPAGEBUILDER_ROW_COPIED\":\"Copied\",\"COM_SPPAGEBUILDER_PASTE_ROW\":\"Paste Row\",\"COM_SPPAGEBUILDER_DELETE_ROW\":\"Delete Row\",\"COM_SPPAGEBUILDER_ROW_TOGGLE\":\"Toggle Row\",\"COM_SPPAGEBUILDER_DELETE_ROW_CONFIRMATION\":\"Do you really want to delete this row?\",\"COM_SPPAGEBUILDER_ROW_COLUMNS_MANAGEMENT\":\"Add\\/Manage Columns\",\"COM_SPPAGEBUILDER_ROW_COLUMNS_CUSTOM\":\"Custom\",\"COM_SPPAGEBUILDER_ROW_COLUMNS_GENERATE\":\"Generate\",\"COM_SPPAGEBUILDER_IMPORT_PAGE\":\"Import\",\"COM_SPPAGEBUILDER_IMPORT_PAGE_ALT\":\"Import\",\"COM_SPPAGEBUILDER_EXPORT_PAGE\":\"Export\",\"COM_SPPAGEBUILDER_PAGE_TEMPLATES\":\"Page Templates\",\"COM_SPPAGEBUILDER_UNDO\":\"Undo\",\"COM_SPPAGEBUILDER_REDO\":\"Redo\",\"COM_SPPAGEBUILDER_SAVE\":\"Save\",\"COM_SPPAGEBUILDER_SAVE_ROW\":\"Save Row\",\"COM_SPPAGEBUILDER_ROW_COLUMNS_OPTIONS\":\"Column Options\",\"COM_SPPAGEBUILDER_DELETE_COLUMN\":\"Delete Column\",\"COM_SPPAGEBUILDER_ADD_NEW_ADDON\":\"Add New Addon\",\"COM_SPPAGEBUILDER_ADDON\":\"Addon\",\"COM_SPPAGEBUILDER_DELETE_ADDON\":\"Delete Addon\",\"COM_SPPAGEBUILDER_DUPLICATE_ADDON\":\"Clone Addon\",\"COM_SPPAGEBUILDER_EDIT_ADDON\":\"Edit Addon\",\"COM_SPPAGEBUILDER_ADDONS_LIST\":\"Addons List\",\"COM_SPPAGEBUILDER_ALL\":\"All\",\"COM_SPPAGEBUILDER_MODAL_CLOSE\":\"Close Modal\",\"COM_SPPAGEBUILDER_DISABLE_COLUMN\":\"Disable Column\",\"COM_SPPAGEBUILDER_ENABLE_COLUMN\":\"Enable Column\",\"COM_SPPAGEBUILDER_YES\":\"Yes\",\"COM_SPPAGEBUILDER_NO\":\"No\",\"COM_SPPAGEBUILDER_PAGE_TEMPLATES_LIST\":\"Template List\",\"COM_SPPAGEBUILDER_PAGE_TEMPLATE_LOAD\":\"Import\",\"COM_SPPAGEBUILDER_ENABLE_ADDON\":\"Enable Addon\",\"COM_SPPAGEBUILDER_DISABLE_ADDON\":\"Disable Addon\",\"COM_SPPAGEBUILDER_ADDON_PARENT_COLUMN\":\"Parent Column\",\"COM_SPPAGEBUILDER_ADD_NEW_INNER_ROW\":\"Add Inner Row\",\"COM_SPPAGEBUILDER_MOVE_COLUMN\":\"Move Column\",\"COM_SPPAGEBUILDER_DAY\":\"Day\",\"COM_SPPAGEBUILDER_DAYS\":\"Days\",\"COM_SPPAGEBUILDER_HOUR\":\"Hour\",\"COM_SPPAGEBUILDER_HOURS\":\"Hours\",\"COM_SPPAGEBUILDER_MINUTE\":\"Minute\",\"COM_SPPAGEBUILDER_MINUTES\":\"Minutes\",\"COM_SPPAGEBUILDER_SECOND\":\"Second\",\"COM_SPPAGEBUILDER_SECONDS\":\"Seconds\",\"COM_SPPAGEBUILDER_ADDON_OPTIN_FORM_SUBCSCRIBE\":\"Subscribe\",\"COM_SPPAGEBUILDER_ADDON_AJAX_CONTACT_NAME\":\"Name\",\"COM_SPPAGEBUILDER_ADDON_AJAX_CONTACT_EMAIL\":\"Email\"}}</script>\n",
    "\t<script src=\"/media/system/js/core.js?118f2406c6962051e589f91a2ba6a8d1\" type=\"text/javascript\"></script>\n",
    "\t<script src=\"/media/jui/js/jquery.min.js?118f2406c6962051e589f91a2ba6a8d1\" type=\"text/javascript\"></script>\n",
    "\t<script src=\"/media/jui/js/jquery-noconflict.js?118f2406c6962051e589f91a2ba6a8d1\" type=\"text/javascript\"></script>\n",
    "\t<script src=\"/media/jui/js/jquery-migrate.min.js?118f2406c6962051e589f91a2ba6a8d1\" type=\"text/javascript\"></script>\n",
    "\t<script src=\"/components/com_sppagebuilder/assets/js/sppagebuilder.js\" type=\"text/javascript\"></script>\n",
    "\t<script src=\"/components/com_sppagebuilder/assets/js/jquery.magnific-popup.min.js\" type=\"text/javascript\"></script>\n",
    "\t<script src=\"/templates/shaper_helixultimate/js/popper.min.js\" type=\"text/javascript\"></script>\n",
    "\t<script src=\"/templates/shaper_helixultimate/js/bootstrap.min.js\" type=\"text/javascript\"></script>\n",
    "\t<script src=\"/templates/shaper_helixultimate/js/main.js\" type=\"text/javascript\"></script>\n",
    "\t<script type=\"text/javascript\">\n",
    "template=\"shaper_helixultimate\";\n",
    "\t</script>\n",
    "\t<meta content=\"Machine Learning | Data Science | Big Data | Cursos Gratuitos\" property=\"og:title\" />\n",
    "\t<meta content=\"website\" property=\"og:type\"/>\n",
    "\t<meta content=\"https://cienciadosdados.com/\" property=\"og:url\" />\n",
    "\t<meta content=\"https://cienciadosdados.com/images/2019/12/15/logo_aprovada-02.png\" property=\"og:image\" />\n",
    "\t<meta content=\"1200\" property=\"og:image:width\" />\n",
    "\t<meta content=\"630\" property=\"og:image:height\" />\n",
    "\t<meta content=\"Tudo sobre Ciência de Dados em um só lugar!\" property=\"og:description\" />\n",
    "\t<!-- Joomla Facebook Integration Begin -->\n",
    "<script type='text/javascript'>\n",
    "!function(f,b,e,v,n,t,s){if(f.fbq)return;n=f.fbq=function(){n.callMethod?\n",
    "n.callMethod.apply(n,arguments):n.queue.push(arguments)};if(!f._fbq)f._fbq=n;\n",
    "n.push=n;n.loaded=!0;n.version='2.0';n.queue=[];t=b.createElement(e);t.async=!0;\n",
    "t.src=v;s=b.getElementsByTagName(e)[0];s.parentNode.insertBefore(t,s)}(window,\n",
    "document,'script','https://connect.facebook.net/en_US/fbevents.js');\n",
    "fbq('init', '512054569681165', {}, {agent: 'pljoomla'});\n",
    "fbq('track', 'PageView');\n",
    "</script>\n",
    "<noscript>\n",
    "<img height=\"1\" width=\"1\" style=\"display:none\" alt=\"fbpx\"\n",
    "src=\"https://www.facebook.com/tr?id=512054569681165&ev=PageView&noscript=1\"/>\n",
    "</noscript>\n",
    "<!-- DO NOT MODIFY -->\n",
    "<!-- Joomla Facebook Integration end -->\n",
    "<!-- Global site tag (gtag.js) - Google Ads: 639008518 -->\n",
    "<script async src=\"https://www.googletagmanager.com/gtag/js?id=AW-639008518\"></script>\n",
    "<script>\n",
    "  window.dataLayer = window.dataLayer || [];\n",
    "  function gtag(){dataLayer.push(arguments);}\n",
    "  gtag('js', new Date());\n",
    "\n",
    "  gtag('config', 'AW-639008518');\n",
    "\n",
    "  gtag('config', 'UA-169004649-1');\n",
    "</script>\n",
    "\n",
    "\n",
    "<!-- Google Tag Manager -->\n",
    "<script>(function(w,d,s,l,i){w[l]=w[l]||[];w[l].push({'gtm.start':\n",
    "new Date().getTime(),event:'gtm.js'});var f=d.getElementsByTagName(s)[0],\n",
    "j=d.createElement(s),dl=l!='dataLayer'?'&l='+l:'';j.async=true;j.src=\n",
    "'https://www.googletagmanager.com/gtm.js?id='+i+dl;f.parentNode.insertBefore(j,f);\n",
    "})(window,document,'script','dataLayer','GTM-TRK2VLJ');</script>\n",
    "<!-- End Google Tag Manager -->\n",
    "    </head>\n",
    "    <body class=\"site helix-ultimate com-sppagebuilder view-page layout-default task-none itemid-101 pt-br ltr sticky-header layout-fluid offcanvas-init offcanvs-position-left\">\n",
    "<!-- Google Tag Manager iframe V.1.0.0 from Tools for Joomla -->\n",
    "<noscript><iframe src='//www.googletagmanager.com/ns.html?id= AW-639008518'\n",
    "height='0' width='0' style='display:none;visibility:hidden'></iframe></noscript>\n",
    "<!-- End Google Tag Manager iframe -->\n",
    "    \n",
    "    <div class=\"body-wrapper\">\n",
    "        <div class=\"body-innerwrapper\">\n",
    "            <header id=\"sp-header\"><div class=\"container\"><div class=\"container-inner\"><div class=\"row\"><div id=\"sp-logo\" class=\"col-12 col-lg-3\"><div class=\"sp-column\"><a id=\"offcanvas-toggler\" aria-label=\"Navigation\" class=\"offcanvas-toggler-left\" href=\"#\"><span class=\"fa fa-bars\" aria-hidden=\"true\" title=\"Navigation\"></span></a><div class=\"logo\"><a href=\"/\"><img class=\"logo-image\" src=\"/images/logo/logo_aprovada-01.png\" alt=\"Ciência dos Dados\"></a></div></div></div><div id=\"sp-menu\" class=\"d-none d-lg-block col-lg-9\"><div class=\"sp-column\"><nav class=\"sp-megamenu-wrapper\" role=\"navigation\"><ul class=\"sp-megamenu-parent menu-animation-fade-up d-none d-lg-block\"><li class=\"sp-menu-item current-item active\"><a  href=\"/index.php\" >Início</a></li><li class=\"sp-menu-item\"><a  href=\"/index.php/cursos-gratuitos\" >Cursos Gratuitos</a></li><li class=\"sp-menu-item\"><a  href=\"/index.php/certificados\" >Certificados</a></li><li class=\"sp-menu-item\"><a  href=\"/index.php/blog\" >Blog</a></li></ul></nav></div></div></div></div></div></header>            <section id=\"sp-section-1\"><div class=\"row\"><div id=\"sp-title\" class=\"col-lg-12 \"><div class=\"sp-column \"></div></div></div></section><section id=\"sp-main-body\"><div class=\"row\"><main id=\"sp-component\" class=\"col-lg-12 \" role=\"main\"><div class=\"sp-column \"><div id=\"system-message-container\">\n",
    "\t</div>\n",
    "\n",
    "<div id=\"sp-page-builder\" class=\"sp-page-builder  page-1\">\n",
    "\n",
    "\t\n",
    "\t<div class=\"page-content\">\n",
    "\t\t\t\t<div id=\"section-id-1511613808\" class=\"sppb-section \" ><div class=\"sppb-row-overlay\"></div><div class=\"sppb-container-inner\"><div class=\"sppb-row\"><div class=\"sppb-col-sm-12\"><div id=\"column-id-1511613809\" class=\"sppb-column \" ><div class=\"sppb-column-addons\"><div id=\"sppb-addon-1512068798151\" class=\"clearfix\" ><div class=\"sppb-addon sppb-addon-text-block 0 sppb-text-center \"><h3 class=\"sppb-addon-title\">Ciência dos Dados</h3><div class=\"sppb-addon-content\"><div style=\"text-align: center;\"><span style=\"font-size: 14pt;\"><em>Nesse Portal você vai aprender tudo sobre Ciência de Dados com uma linguagem simples e muita prática!</em></span></div></div></div></div><div id=\"sppb-addon-1512068912421\" class=\" sppb-wow fadeInDownBig clearfix\" ><div class=\"sppb-text-center\"><a href=\"https://www.cienciadosdados.com/index.php/gallery\" id=\"btn-1512068912421\" class=\"sppb-btn  sppb-btn-success sppb-btn-lg sppb-btn-round sppb-btn-gradient\"><i class=\"fa fa-database\"></i> Área de Membros</a></div></div></div></div></div></div></div></div><section id=\"section-id-1588174409786\" class=\"sppb-section \" ><div class=\"sppb-row-container\"><div class=\"sppb-row\"><div class=\"sppb-col-md-6\"><div id=\"column-id-1588174409784\" class=\"sppb-column\" ><div class=\"sppb-column-addons\"><div id=\"sppb-addon-1588175470980\" class=\"clearfix\" ><div class=\"sppb-addon sppb-addon-single-image sppb-text-center \"><div class=\"sppb-addon-content\"><div class=\"sppb-addon-single-image-container\"><img class=\"sppb-img-responsive\" src=\"/images/2020/05/07/naprtica.jpg\" alt=\"Image\" title=\"\"></div></div></div></div></div></div></div><div class=\"sppb-col-md-6\"><div id=\"column-id-1588174409785\" class=\"sppb-column\" ><div class=\"sppb-column-addons\"><div id=\"sppb-addon-1588175485257\" class=\"clearfix\" ><div class=\"sppb-addon sppb-addon-video \"><div class=\"sppb-video-block sppb-embed-responsive sppb-embed-responsive-16by9\"><iframe class=\"sppb-embed-responsive-item\" src=\"//www.youtube.com/embed/8HUtX5MTRYg?iv_load_policy=3\" webkitAllowFullScreen mozallowfullscreen allowFullScreen></iframe></div></div></div></div></div></div></div></div></section><section id=\"section-id-1588174410118\" class=\"sppb-section \" ><div class=\"sppb-row-container\"><div class=\"sppb-row\"><div class=\"sppb-col-md-12\"><div id=\"column-id-1588174410117\" class=\"sppb-column\" ><div class=\"sppb-column-addons\"><div id=\"sppb-addon-1588176173958\" class=\"clearfix\" ><div class=\"sppb-addon sppb-addon-single-image sppb-text-center \"><h5 class=\"sppb-addon-title\">Participe da Comunidade de Cientistas de Dados onde Compartilho os Scripts e Datasets Gratuitamente!</h5><div class=\"sppb-addon-content\"><div class=\"sppb-addon-single-image-container\"><a  href=\"https://t.me/cienciadosdadosraiz\"><img class=\"sppb-img-responsive\" src=\"/images/2020/04/29/telegram.jpg\" alt=\"Image\" title=\"Participe da Comunidade de Cientistas de Dados onde Compartilho os Scripts e Datasets Gratuitamente!\"></a></div></div></div></div></div></div></div></div></div></section><section id=\"section-id-1519278520252\" class=\"sppb-section \" ><div class=\"sppb-row-container\"><div class=\"sppb-row sppb-align-center\"><div class=\"sppb-col-md-7\"><div id=\"column-id-1519278520250\" class=\"sppb-column\" ><div class=\"sppb-column-addons\"><div id=\"sppb-addon-1519278734651\" class=\"clearfix\" ><div class=\"sppb-addon sppb-addon-single-image sppb-text-center \"><div class=\"sppb-addon-content\"><div class=\"sppb-addon-single-image-container\"><img class=\"sppb-img-responsive\" src=\"/images/2018/02/22/img1.jpg\" alt=\"Image\" title=\"\"></div></div></div></div></div></div></div><div class=\"sppb-col-md-5\"><div id=\"column-id-1519278520251\" class=\"sppb-column\" ><div class=\"sppb-column-addons\"><div id=\"sppb-addon-1519278800191\" class=\"clearfix\" ><div class=\"sppb-addon sppb-addon-text-block 0  \"><h3 class=\"sppb-addon-title\">Quem Somos</h3><div class=\"sppb-addon-content\"><p><span style=\"font-family: verdana, geneva;\">Opa! Seja muito bem vindo ao Portal \"Ciência dos Dados\". Nós somos os \"inconformados\" com o&nbsp;<em>status quo</em> e queremos <strong>disseminar o conhecimento</strong> sobre o tão místico ramo da \"<strong>Ciência de Dados</strong>\".&nbsp;</span><br /><br /><span style=\"font-family: verdana, geneva;\">Nosso objetivo é mostrar que você pode, e é capaz, de se tornar um Cientista de Dados.&nbsp;E, para isso, nós disponibilizamos vários <strong>cursos GRATUITOS para que VOCÊ</strong> aprenda e espalhe conhecimento.</span><br /><br /><span style=\"font-family: verdana, geneva;\">Acreditamos que assim estamos ajudando VOCÊ a se <strong>desenvolver Profissionalmente</strong>, e em decorrência, ajudando nosso País a desenvolver talentos, gerando valor para&nbsp;Sociedade.</span></p></div></div></div></div></div></div></div></div></section><section id=\"section-id-1519278764266\" class=\"sppb-section \" ><div class=\"sppb-row-container\"><div class=\"sppb-row\"><div class=\"sppb-col-md-12\"><div id=\"column-id-1519278764262\" class=\"sppb-column\" ><div class=\"sppb-column-addons\"><div id=\"sppb-addon-1519279062623\" class=\"clearfix\" ><div class=\"sppb-addon sppb-addon-text-block 0 sppb-text-center \"><h3 class=\"sppb-addon-title\">O que você vai aprender aqui no Portal \n",
    "\n",
    "</h3><div class=\"sppb-addon-content\"><p>&nbsp;</p>\n",
    "<div style=\"text-align: justify;\">Aqui <span style=\"font-family: verdana, geneva; color: #000000;\">vamos te dar o <strong><span style=\"text-decoration: underline;\">passo-a-passo</span></strong> para você se tornar um Cientista de Dados, desde a instalação das <strong><span style=\"text-decoration: underline;\">ferramentas</span></strong> mais utilizadas no mercado de Analytics, bem como vamos te ensinar as principais <strong><span style=\"text-decoration: underline;\">linguagens de programação</span></strong> orientadas&nbsp;ao Data Science como <span style=\"text-decoration: underline;\"><strong>SAS, R e Python</strong></span>.&nbsp;Vamos te ensinar a desenvolver seus próprios modelos de Machine Learning, seus <strong>Paineis de Visualização</strong> e implementação - <strong>Deploy</strong> -&nbsp; desses modelos em ambientes de produção.</span></div></div></div></div></div></div></div><div class=\"sppb-col-md-4\"><div id=\"column-id-1519278764263\" class=\"sppb-column\" ><div class=\"sppb-column-addons\"></div></div></div><div class=\"sppb-col-md-4\"><div id=\"column-id-1519278764264\" class=\"sppb-column\" ><div class=\"sppb-column-addons\"></div></div></div><div class=\"sppb-col-md-4\"><div id=\"column-id-1519278764265\" class=\"sppb-column\" ><div class=\"sppb-column-addons\"></div></div></div></div></div></section><section id=\"section-id-1519279374154\" class=\"sppb-section \" ><div class=\"sppb-row-container\"><div class=\"sppb-row sppb-align-center\"><div class=\"sppb-col-md-6\"><div id=\"column-id-1519279374152\" class=\"sppb-column\" ><div class=\"sppb-column-addons\"><div id=\"sppb-addon-1519279731874\" class=\"clearfix\" ><div class=\"sppb-addon sppb-addon-text-block 0  \"><h3 class=\"sppb-addon-title\">Treinamentos Gratuitos:</h3><div class=\"sppb-addon-content\">Aqui voc&ecirc; ir&aacute; aprender com os melhores, pois o treinamento &eacute; projetado e desenvolvido por profissionais altamente qualificados e que est&atilde;o no mercado, no campo de batalha, na vida real, a mais de 10 anos. A cada clique uma descoberta com conhecimentos adquiridos com qualidade.</div></div></div><div id=\"sppb-addon-1519279882761\" class=\"clearfix\" ><div class=\"sppb-text-left\"><a href=\"https://cienciadosdados.com/index.php/cursos-gratuitos\" id=\"btn-1519279882761\" class=\"sppb-btn  sppb-btn-success sppb-btn-lg sppb-btn-rounded sppb-btn-3d\"><i class=\"fa fa-flash\"></i> INSCREVA-SE</a></div></div></div></div></div><div class=\"sppb-col-md-6\"><div id=\"column-id-1519279374153\" class=\"sppb-column\" ><div class=\"sppb-column-addons\"><div id=\"sppb-addon-1519279815885\" class=\"clearfix\" ><div class=\"sppb-addon sppb-addon-single-image sppb-text-center \"><div class=\"sppb-addon-content\"><div class=\"sppb-addon-single-image-container\"><img class=\"sppb-img-responsive\" src=\"/images/2018/02/22/img2.jpg\" alt=\"Image\" title=\"\"></div></div></div></div></div></div></div></div></div></section><section id=\"section-id-1519279374340\" class=\"sppb-section \" ><div class=\"sppb-row-container\"><div class=\"sppb-section-title \"><h2 class=\"sppb-title-heading\">Aulas Semanais - Ciência dos Dados #NaPrática</h2></div><div class=\"sppb-row\"><div class=\"sppb-col-md-4\"><div id=\"column-id-1519279374339\" class=\"sppb-column\" ><div class=\"sppb-column-addons\"><div id=\"sppb-addon-1580404213193\" class=\"clearfix\" ><div class=\"sppb-addon sppb-addon-text-block 0  \"><div class=\"sppb-addon-content\"></div></div></div><div id=\"sppb-addon-1578929091431\" class=\"clearfix\" ><div class=\"sppb-addon sppb-addon-video \"><h6 class=\"sppb-addon-title\">Redimensionamento dos Dados: Normaliza ou Padroniza</h6><div class=\"sppb-video-block sppb-embed-responsive sppb-embed-responsive-16by9\"><iframe class=\"sppb-embed-responsive-item\" src=\"//www.youtube.com/embed/-L8MacYRWGM?iv_load_policy=3\" webkitAllowFullScreen mozallowfullscreen allowFullScreen></iframe></div></div></div><div id=\"sppb-addon-1590578842046\" class=\"clearfix\" ><div class=\"sppb-addon sppb-addon-video \"><h6 class=\"sppb-addon-title\">[PYTHON] Ecommerce - Previsão de Compra com SVM - Support Vector Machines</h6><div class=\"sppb-video-block sppb-embed-responsive sppb-embed-responsive-16by9\"><iframe class=\"sppb-embed-responsive-item\" src=\"//www.youtube.com/embed/EbxV4I0BkXk?iv_load_policy=3\" webkitAllowFullScreen mozallowfullscreen allowFullScreen></iframe></div></div></div><div id=\"sppb-addon-1589993591038\" class=\"clearfix\" ><div class=\"sppb-addon sppb-addon-video \"><h6 class=\"sppb-addon-title\">[PYTHON] Criando Sistema de Classificação de Documentos</h6><div class=\"sppb-video-block sppb-embed-responsive sppb-embed-responsive-16by9\"><iframe class=\"sppb-embed-responsive-item\" src=\"//www.youtube.com/embed/AkLPBqBq_xs?iv_load_policy=3\" webkitAllowFullScreen mozallowfullscreen allowFullScreen></iframe></div></div></div><div id=\"sppb-addon-1580404213202\" class=\"clearfix\" ><div class=\"sppb-addon sppb-addon-video \"><h6 class=\"sppb-addon-title\">Market Basket Analysis</h6><div class=\"sppb-video-block sppb-embed-responsive sppb-embed-responsive-16by9\"><iframe class=\"sppb-embed-responsive-item\" src=\"//www.youtube.com/embed/55__iMPWRQg?iv_load_policy=3\" webkitAllowFullScreen mozallowfullscreen allowFullScreen></iframe></div></div></div><div id=\"sppb-addon-1583094116059\" class=\"clearfix\" ><div class=\"sppb-addon sppb-addon-video \"><h6 class=\"sppb-addon-title\">Webscraping: Extraíndo dados de Valor da WEB</h6><div class=\"sppb-video-block sppb-embed-responsive sppb-embed-responsive-16by9\"><iframe class=\"sppb-embed-responsive-item\" src=\"//www.youtube.com/embed/GPCzuYh3TmU?iv_load_policy=3\" webkitAllowFullScreen mozallowfullscreen allowFullScreen></iframe></div></div></div><div id=\"sppb-addon-1586270785438\" class=\"clearfix\" ><div class=\"sppb-addon sppb-addon-video \"><h6 class=\"sppb-addon-title\">RH Analytics - Prevendo evasão de Talentos</h6><div class=\"sppb-video-block sppb-embed-responsive sppb-embed-responsive-16by9\"><iframe class=\"sppb-embed-responsive-item\" src=\"//www.youtube.com/embed/NNyEC7FfVLo?iv_load_policy=3\" webkitAllowFullScreen mozallowfullscreen allowFullScreen></iframe></div></div></div><div id=\"sppb-addon-1587493969343\" class=\"clearfix\" ><div class=\"sppb-addon sppb-addon-video \"><h6 class=\"sppb-addon-title\">Customer Churn Analysis</h6><div class=\"sppb-video-block sppb-embed-responsive sppb-embed-responsive-16by9\"><iframe class=\"sppb-embed-responsive-item\" src=\"//www.youtube.com/embed/FizLsPDzeqg?iv_load_policy=3\" webkitAllowFullScreen mozallowfullscreen allowFullScreen></iframe></div></div></div></div></div></div><div class=\"sppb-col-md-4\"><div id=\"column-id-1579464459523\" class=\"sppb-column\" ><div class=\"sppb-column-addons\"><div id=\"sppb-addon-1579464757485\" class=\"clearfix\" ><div class=\"sppb-addon sppb-addon-video \"><h6 class=\"sppb-addon-title\">Previsão de Vendas com Machine Learning</h6><div class=\"sppb-video-block sppb-embed-responsive sppb-embed-responsive-16by9\"><iframe class=\"sppb-embed-responsive-item\" src=\"//www.youtube.com/embed/sX0cfTrKAZ0?iv_load_policy=3\" webkitAllowFullScreen mozallowfullscreen allowFullScreen></iframe></div></div></div><div id=\"sppb-addon-1591182975217\" class=\"clearfix\" ><div class=\"sppb-addon sppb-addon-video \"><h6 class=\"sppb-addon-title\">[Python] - Google para fazer Machine Learning e IA</h6><div class=\"sppb-video-block sppb-embed-responsive sppb-embed-responsive-16by9\"><iframe class=\"sppb-embed-responsive-item\" src=\"//www.youtube.com/embed/IaIc5oHd3II?iv_load_policy=3\" webkitAllowFullScreen mozallowfullscreen allowFullScreen></iframe></div></div></div><div id=\"sppb-addon-1581793429109\" class=\"clearfix\" ><div class=\"sppb-addon sppb-addon-video \"><h6 class=\"sppb-addon-title\">[Machine Learning e Marketing Digital] - Segmentando clientes para Campanha de Marketing no Facebook.</h6><div class=\"sppb-video-block sppb-embed-responsive sppb-embed-responsive-16by9\"><iframe class=\"sppb-embed-responsive-item\" src=\"//www.youtube.com/embed/rnVFXYhNJXk?iv_load_policy=3\" webkitAllowFullScreen mozallowfullscreen allowFullScreen></iframe></div></div></div><div id=\"sppb-addon-1583777655730\" class=\"clearfix\" ><div class=\"sppb-addon sppb-addon-video \"><h6 class=\"sppb-addon-title\">Machine Learning: Prevendo Câncer </h6><div class=\"sppb-video-block sppb-embed-responsive sppb-embed-responsive-16by9\"><iframe class=\"sppb-embed-responsive-item\" src=\"//www.youtube.com/embed/DhbhZ253Fr4?iv_load_policy=3\" webkitAllowFullScreen mozallowfullscreen allowFullScreen></iframe></div></div></div><div id=\"sppb-addon-1586270785533\" class=\"clearfix\" ><div class=\"sppb-addon sppb-addon-video \"><h6 class=\"sppb-addon-title\">[PYTHON] Tutorial de Instalação </h6><div class=\"sppb-video-block sppb-embed-responsive sppb-embed-responsive-16by9\"><iframe class=\"sppb-embed-responsive-item\" src=\"//www.youtube.com/embed/Hgw3Lh97SHk?iv_load_policy=3\" webkitAllowFullScreen mozallowfullscreen allowFullScreen></iframe></div></div></div><div id=\"sppb-addon-1588071829583\" class=\"clearfix\" ><div class=\"sppb-addon sppb-addon-video \"><h6 class=\"sppb-addon-title\"> Machine Learning - Prevendo Despesas Hospitalares</h6><div class=\"sppb-video-block sppb-embed-responsive sppb-embed-responsive-16by9\"><iframe class=\"sppb-embed-responsive-item\" src=\"//www.youtube.com/embed/3DAyG4VcATM?iv_load_policy=3\" webkitAllowFullScreen mozallowfullscreen allowFullScreen></iframe></div></div></div></div></div></div><div class=\"sppb-col-md-4\"><div id=\"column-id-1579464459524\" class=\"sppb-column\" ><div class=\"sppb-column-addons\"><div id=\"sppb-addon-1580157415960\" class=\"clearfix\" ><div class=\"sppb-addon sppb-addon-video \"><h6 class=\"sppb-addon-title\">Ciência de Dados e Detecção de Doenças</h6><div class=\"sppb-video-block sppb-embed-responsive sppb-embed-responsive-16by9\"><iframe class=\"sppb-embed-responsive-item\" src=\"//www.youtube.com/embed/U7VJljqHwjY?iv_load_policy=3\" webkitAllowFullScreen mozallowfullscreen allowFullScreen></iframe></div></div></div><div id=\"sppb-addon-1582463642202\" class=\"clearfix\" ><div class=\"sppb-addon sppb-addon-video \"><h6 class=\"sppb-addon-title\">Avaliando a Máquina Preditiva: Entendendo de Vez a Confusion Matrix</h6><div class=\"sppb-video-block sppb-embed-responsive sppb-embed-responsive-16by9\"><iframe class=\"sppb-embed-responsive-item\" src=\"//www.youtube.com/embed/s4HlDv1AhgU?iv_load_policy=3\" webkitAllowFullScreen mozallowfullscreen allowFullScreen></iframe></div></div></div><div id=\"sppb-addon-1584305266719\" class=\"clearfix\" ><div class=\"sppb-addon sppb-addon-video \"><h6 class=\"sppb-addon-title\">Machine Learning - Segmentação de Clientes</h6><div class=\"sppb-video-block sppb-embed-responsive sppb-embed-responsive-16by9\"><iframe class=\"sppb-embed-responsive-item\" src=\"//www.youtube.com/embed/ArRMqVEdKnE?iv_load_policy=3\" webkitAllowFullScreen mozallowfullscreen allowFullScreen></iframe></div></div></div><div id=\"sppb-addon-1586871052889\" class=\"clearfix\" ><div class=\"sppb-addon sppb-addon-video \"><h6 class=\"sppb-addon-title\">[Machine Learning] Classificação Binária com o algoritmo \"KNN\"</h6><div class=\"sppb-video-block sppb-embed-responsive sppb-embed-responsive-16by9\"><iframe class=\"sppb-embed-responsive-item\" src=\"//www.youtube.com/embed/HWKk_dolBz8?iv_load_policy=3\" webkitAllowFullScreen mozallowfullscreen allowFullScreen></iframe></div></div></div><div id=\"sppb-addon-1588851207512\" class=\"clearfix\" ><div class=\"sppb-addon sppb-addon-video \"><h6 class=\"sppb-addon-title\">Machine Learning: Prevendo a Inadimplência de Clientes</h6><div class=\"sppb-video-block sppb-embed-responsive sppb-embed-responsive-16by9\"><iframe class=\"sppb-embed-responsive-item\" src=\"//www.youtube.com/embed/wSP5BbVBemI?iv_load_policy=3\" webkitAllowFullScreen mozallowfullscreen allowFullScreen></iframe></div></div></div></div></div></div><div class=\"sppb-col-md-4\"><div id=\"column-id-1579464459525\" class=\"sppb-column\" ><div class=\"sppb-column-addons\"></div></div></div></div></div></section>\t\t\t</div>\n",
    "</div>\n",
    "</div></main></div></section><footer id=\"sp-footer\"><div class=\"container\"><div class=\"container-inner\"><div class=\"row\"><div id=\"sp-footer1\" class=\"col-lg-12 \"><div class=\"sp-column \"><span class=\"sp-copyright\">© 2021 Ciência dos Dados. Todos os Direitos Reservados. \n",
    " \n",
    "/ CNPJ: 32.897.745/0001-91\n",
    "\n",
    "/ Contato: suporte@cienciadosdados.com</span></div></div></div></div></div></footer>        </div>\n",
    "    </div>\n",
    "\n",
    "    <!-- Off Canvas Menu -->\n",
    "    <div class=\"offcanvas-overlay\"></div>\n",
    "    <div class=\"offcanvas-menu\">\n",
    "        <a href=\"#\" class=\"close-offcanvas\"><span class=\"fa fa-remove\"></span></a>\n",
    "        <div class=\"offcanvas-inner\">\n",
    "                            <div class=\"sp-module \"><h3 class=\"sp-module-title\">Menu Principal</h3><div class=\"sp-module-content\"><ul class=\"menu\">\n",
    "<li class=\"item-101 default current active\"><a href=\"/index.php\" >Início</a></li><li class=\"item-106\"><a href=\"/index.php/cursos-gratuitos\" >Cursos Gratuitos</a></li><li class=\"item-240\"><a href=\"/index.php/certificados\" >Certificados</a></li><li class=\"item-203\"><a href=\"/index.php/blog\" >Blog</a></li></ul>\n",
    "</div></div>\n",
    "                    </div>\n",
    "    </div>\n",
    "\n",
    "    <!-- Google Tag Manager (noscript) -->\n",
    "<noscript><iframe src=\"https://www.googletagmanager.com/ns.html?id=GTM-TRK2VLJ\"\n",
    "height=\"0\" width=\"0\" style=\"display:none;visibility:hidden\"></iframe></noscript>\n",
    "<!-- End Google Tag Manager (noscript) -->\n",
    "\n",
    "    \n",
    "    \n",
    "    <!-- Go to top -->\n",
    "            <a href=\"#\" class=\"sp-scroll-up\" aria-label=\"Scroll Up\"><span class=\"fa fa-chevron-up\" aria-hidden=\"true\"></span></a>\n",
    "            </body>\n",
    "</html>  \"\"\""
   ]
  },
  {
   "cell_type": "code",
   "execution_count": 6,
   "metadata": {
    "id": "8cQBGGxFmcwg"
   },
   "outputs": [
    {
     "data": {
      "text/plain": [
       "['',\n",
       " '',\n",
       " 'Início',\n",
       " 'Cursos Gratuitos',\n",
       " 'Certificados',\n",
       " 'Blog',\n",
       " ' Área de Membros',\n",
       " '',\n",
       " '',\n",
       " 'Início',\n",
       " 'Cursos Gratuitos',\n",
       " 'Certificados',\n",
       " 'Blog',\n",
       " '']"
      ]
     },
     "execution_count": 6,
     "metadata": {},
     "output_type": "execute_result"
    }
   ],
   "source": [
    "import re\n",
    "\n",
    "# traz a extruturas de topicos (findall)\n",
    "re.findall(r\">([\\w\\s()]*?)</a>\", html)"
   ]
  },
  {
   "cell_type": "markdown",
   "metadata": {
    "id": "PW8I1jx6wmGx"
   },
   "source": [
    "## 3° Manipulação de Datas\n",
    "\n",
    "* Sumarizações Diversas (ano, mês, dia, hora, minuto)\n"
   ]
  },
  {
   "cell_type": "markdown",
   "metadata": {
    "id": "ezqAqcQyXzA1"
   },
   "source": [
    "![alt text](https://i.pinimg.com/originals/5f/2c/32/5f2c325f89cd51d766569db709f907db.gif) ![alt text](https://nathalyagabrielasic.files.wordpress.com/2014/11/relc3b3gio.gif)"
   ]
  },
  {
   "cell_type": "code",
   "execution_count": 7,
   "metadata": {
    "id": "1tygvv3KtHIX"
   },
   "outputs": [
    {
     "data": {
      "text/plain": [
       "'2018-03-14 06:08:18'"
      ]
     },
     "execution_count": 7,
     "metadata": {},
     "output_type": "execute_result"
    }
   ],
   "source": [
    "# Manipulação de Datas\n",
    "date = \"2018-03-14 06:08:18\"\n",
    "date"
   ]
  },
  {
   "cell_type": "code",
   "execution_count": 8,
   "metadata": {
    "id": "xqKFOvGxtOOC"
   },
   "outputs": [
    {
     "data": {
      "text/plain": [
       "[('2018', '03', '14')]"
      ]
     },
     "execution_count": 8,
     "metadata": {},
     "output_type": "execute_result"
    }
   ],
   "source": [
    "#Ano/mes/dia\n",
    "import re\n",
    "\n",
    "re.findall(r\"(\\d{4})-(\\d{2})-(\\d{2})\", date)"
   ]
  },
  {
   "cell_type": "code",
   "execution_count": 9,
   "metadata": {
    "id": "dQE6i2tltcYo"
   },
   "outputs": [
    {
     "data": {
      "text/plain": [
       "[('2018', '03')]"
      ]
     },
     "execution_count": 9,
     "metadata": {},
     "output_type": "execute_result"
    }
   ],
   "source": [
    "#Ano/mes\n",
    "import re\n",
    "\n",
    "re.findall(r\"(\\d{4})-(\\d{2})\", date)"
   ]
  },
  {
   "cell_type": "code",
   "execution_count": 10,
   "metadata": {
    "id": "lEvq6GKDtKsu"
   },
   "outputs": [
    {
     "data": {
      "text/plain": [
       "['2018']"
      ]
     },
     "execution_count": 10,
     "metadata": {},
     "output_type": "execute_result"
    }
   ],
   "source": [
    "#Ano\n",
    "import re\n",
    "\n",
    "re.findall(r\"\\d{4}\", date)"
   ]
  },
  {
   "cell_type": "markdown",
   "metadata": {
    "id": "SLF6vuqmxTUL"
   },
   "source": [
    "# Fim"
   ]
  }
 ],
 "metadata": {
  "colab": {
   "collapsed_sections": [
    "MrWUVJnavRLu",
    "wcywmXiWv-Mz",
    "PW8I1jx6wmGx"
   ],
   "name": "Regex.ipynb",
   "provenance": []
  },
  "kernelspec": {
   "display_name": "Python 3",
   "language": "python",
   "name": "python3"
  },
  "language_info": {
   "codemirror_mode": {
    "name": "ipython",
    "version": 3
   },
   "file_extension": ".py",
   "mimetype": "text/x-python",
   "name": "python",
   "nbconvert_exporter": "python",
   "pygments_lexer": "ipython3",
   "version": "3.8.5"
  }
 },
 "nbformat": 4,
 "nbformat_minor": 1
}
